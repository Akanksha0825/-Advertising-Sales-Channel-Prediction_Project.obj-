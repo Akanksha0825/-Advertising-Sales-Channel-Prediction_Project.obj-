{
 "cells": [
  {
   "cell_type": "markdown",
   "id": "f6aaac99",
   "metadata": {},
   "source": [
    "## Advertising Sales Channel Prediction\n",
    "\n",
    "Problem Statement:\n",
    "Sales Channel Prediction Case Study  \n",
    "\n",
    "When a company enters a market, the distribution strategy and channel it uses are keys to its success in the market, as well as market know-how and customer knowledge and understanding. Because an effective distribution strategy under efficient supply-chain management opens doors for attaining competitive advantage and strong brand equity in the market, it is a component of the marketing mix that cannot be ignored . \n",
    "\n",
    "The distribution strategy and the channel design have to be right the first time. The case study of Sales channel includes the detailed study of TV, radio and newspaper channel. The predict the total sales generated from all the sales channel.  \n",
    "\n",
    "The below link provided is for downloading the dataset. \n",
    "\n",
    "Downlaod Files:\n",
    "https://raw.githubusercontent.com/dsrscientist/DSData/master/Advertising.csv"
   ]
  },
  {
   "cell_type": "code",
   "execution_count": 2,
   "id": "25356622",
   "metadata": {},
   "outputs": [],
   "source": [
    "#importing libraries\n",
    "\n",
    "import pandas as pd\n",
    "import numpy as np"
   ]
  },
  {
   "cell_type": "code",
   "execution_count": 3,
   "id": "91117455",
   "metadata": {},
   "outputs": [],
   "source": [
    "df = pd.read_csv(\"https://raw.githubusercontent.com/dsrscientist/DSData/master/Advertising.csv\")"
   ]
  },
  {
   "cell_type": "code",
   "execution_count": 4,
   "id": "036046c8",
   "metadata": {},
   "outputs": [
    {
     "data": {
      "text/html": [
       "<div>\n",
       "<style scoped>\n",
       "    .dataframe tbody tr th:only-of-type {\n",
       "        vertical-align: middle;\n",
       "    }\n",
       "\n",
       "    .dataframe tbody tr th {\n",
       "        vertical-align: top;\n",
       "    }\n",
       "\n",
       "    .dataframe thead th {\n",
       "        text-align: right;\n",
       "    }\n",
       "</style>\n",
       "<table border=\"1\" class=\"dataframe\">\n",
       "  <thead>\n",
       "    <tr style=\"text-align: right;\">\n",
       "      <th></th>\n",
       "      <th>Unnamed: 0</th>\n",
       "      <th>TV</th>\n",
       "      <th>radio</th>\n",
       "      <th>newspaper</th>\n",
       "      <th>sales</th>\n",
       "    </tr>\n",
       "  </thead>\n",
       "  <tbody>\n",
       "    <tr>\n",
       "      <th>0</th>\n",
       "      <td>1</td>\n",
       "      <td>230.1</td>\n",
       "      <td>37.8</td>\n",
       "      <td>69.2</td>\n",
       "      <td>22.1</td>\n",
       "    </tr>\n",
       "    <tr>\n",
       "      <th>1</th>\n",
       "      <td>2</td>\n",
       "      <td>44.5</td>\n",
       "      <td>39.3</td>\n",
       "      <td>45.1</td>\n",
       "      <td>10.4</td>\n",
       "    </tr>\n",
       "    <tr>\n",
       "      <th>2</th>\n",
       "      <td>3</td>\n",
       "      <td>17.2</td>\n",
       "      <td>45.9</td>\n",
       "      <td>69.3</td>\n",
       "      <td>9.3</td>\n",
       "    </tr>\n",
       "    <tr>\n",
       "      <th>3</th>\n",
       "      <td>4</td>\n",
       "      <td>151.5</td>\n",
       "      <td>41.3</td>\n",
       "      <td>58.5</td>\n",
       "      <td>18.5</td>\n",
       "    </tr>\n",
       "    <tr>\n",
       "      <th>4</th>\n",
       "      <td>5</td>\n",
       "      <td>180.8</td>\n",
       "      <td>10.8</td>\n",
       "      <td>58.4</td>\n",
       "      <td>12.9</td>\n",
       "    </tr>\n",
       "  </tbody>\n",
       "</table>\n",
       "</div>"
      ],
      "text/plain": [
       "   Unnamed: 0     TV  radio  newspaper  sales\n",
       "0           1  230.1   37.8       69.2   22.1\n",
       "1           2   44.5   39.3       45.1   10.4\n",
       "2           3   17.2   45.9       69.3    9.3\n",
       "3           4  151.5   41.3       58.5   18.5\n",
       "4           5  180.8   10.8       58.4   12.9"
      ]
     },
     "execution_count": 4,
     "metadata": {},
     "output_type": "execute_result"
    }
   ],
   "source": [
    "df.head()"
   ]
  },
  {
   "cell_type": "code",
   "execution_count": 5,
   "id": "aa7b94f5",
   "metadata": {},
   "outputs": [],
   "source": [
    "df = df.set_index('Unnamed: 0')"
   ]
  },
  {
   "cell_type": "markdown",
   "id": "5f06040f",
   "metadata": {},
   "source": [
    "Making \"Unnamed: 0\" Columns as index column"
   ]
  },
  {
   "cell_type": "code",
   "execution_count": 6,
   "id": "0ad9efd7",
   "metadata": {},
   "outputs": [
    {
     "data": {
      "text/html": [
       "<div>\n",
       "<style scoped>\n",
       "    .dataframe tbody tr th:only-of-type {\n",
       "        vertical-align: middle;\n",
       "    }\n",
       "\n",
       "    .dataframe tbody tr th {\n",
       "        vertical-align: top;\n",
       "    }\n",
       "\n",
       "    .dataframe thead th {\n",
       "        text-align: right;\n",
       "    }\n",
       "</style>\n",
       "<table border=\"1\" class=\"dataframe\">\n",
       "  <thead>\n",
       "    <tr style=\"text-align: right;\">\n",
       "      <th></th>\n",
       "      <th>TV</th>\n",
       "      <th>radio</th>\n",
       "      <th>newspaper</th>\n",
       "      <th>sales</th>\n",
       "    </tr>\n",
       "    <tr>\n",
       "      <th>Unnamed: 0</th>\n",
       "      <th></th>\n",
       "      <th></th>\n",
       "      <th></th>\n",
       "      <th></th>\n",
       "    </tr>\n",
       "  </thead>\n",
       "  <tbody>\n",
       "    <tr>\n",
       "      <th>1</th>\n",
       "      <td>230.1</td>\n",
       "      <td>37.8</td>\n",
       "      <td>69.2</td>\n",
       "      <td>22.1</td>\n",
       "    </tr>\n",
       "    <tr>\n",
       "      <th>2</th>\n",
       "      <td>44.5</td>\n",
       "      <td>39.3</td>\n",
       "      <td>45.1</td>\n",
       "      <td>10.4</td>\n",
       "    </tr>\n",
       "    <tr>\n",
       "      <th>3</th>\n",
       "      <td>17.2</td>\n",
       "      <td>45.9</td>\n",
       "      <td>69.3</td>\n",
       "      <td>9.3</td>\n",
       "    </tr>\n",
       "    <tr>\n",
       "      <th>4</th>\n",
       "      <td>151.5</td>\n",
       "      <td>41.3</td>\n",
       "      <td>58.5</td>\n",
       "      <td>18.5</td>\n",
       "    </tr>\n",
       "    <tr>\n",
       "      <th>5</th>\n",
       "      <td>180.8</td>\n",
       "      <td>10.8</td>\n",
       "      <td>58.4</td>\n",
       "      <td>12.9</td>\n",
       "    </tr>\n",
       "  </tbody>\n",
       "</table>\n",
       "</div>"
      ],
      "text/plain": [
       "               TV  radio  newspaper  sales\n",
       "Unnamed: 0                                \n",
       "1           230.1   37.8       69.2   22.1\n",
       "2            44.5   39.3       45.1   10.4\n",
       "3            17.2   45.9       69.3    9.3\n",
       "4           151.5   41.3       58.5   18.5\n",
       "5           180.8   10.8       58.4   12.9"
      ]
     },
     "execution_count": 6,
     "metadata": {},
     "output_type": "execute_result"
    }
   ],
   "source": [
    "df.head()"
   ]
  },
  {
   "cell_type": "code",
   "execution_count": 7,
   "id": "05b4b610",
   "metadata": {},
   "outputs": [
    {
     "name": "stdout",
     "output_type": "stream",
     "text": [
      "<class 'pandas.core.frame.DataFrame'>\n",
      "Int64Index: 200 entries, 1 to 200\n",
      "Data columns (total 4 columns):\n",
      " #   Column     Non-Null Count  Dtype  \n",
      "---  ------     --------------  -----  \n",
      " 0   TV         200 non-null    float64\n",
      " 1   radio      200 non-null    float64\n",
      " 2   newspaper  200 non-null    float64\n",
      " 3   sales      200 non-null    float64\n",
      "dtypes: float64(4)\n",
      "memory usage: 7.8 KB\n"
     ]
    }
   ],
   "source": [
    "df.info()"
   ]
  },
  {
   "cell_type": "markdown",
   "id": "1c44bf6a",
   "metadata": {},
   "source": [
    "There are all float values in the column"
   ]
  },
  {
   "cell_type": "code",
   "execution_count": 8,
   "id": "68df412f",
   "metadata": {},
   "outputs": [
    {
     "data": {
      "text/plain": [
       "TV           0\n",
       "radio        0\n",
       "newspaper    0\n",
       "sales        0\n",
       "dtype: int64"
      ]
     },
     "execution_count": 8,
     "metadata": {},
     "output_type": "execute_result"
    }
   ],
   "source": [
    "df.isnull().sum()"
   ]
  },
  {
   "cell_type": "markdown",
   "id": "20c41723",
   "metadata": {},
   "source": [
    "There is no null values in data"
   ]
  },
  {
   "cell_type": "code",
   "execution_count": 9,
   "id": "a786a13d",
   "metadata": {},
   "outputs": [
    {
     "data": {
      "text/html": [
       "<div>\n",
       "<style scoped>\n",
       "    .dataframe tbody tr th:only-of-type {\n",
       "        vertical-align: middle;\n",
       "    }\n",
       "\n",
       "    .dataframe tbody tr th {\n",
       "        vertical-align: top;\n",
       "    }\n",
       "\n",
       "    .dataframe thead th {\n",
       "        text-align: right;\n",
       "    }\n",
       "</style>\n",
       "<table border=\"1\" class=\"dataframe\">\n",
       "  <thead>\n",
       "    <tr style=\"text-align: right;\">\n",
       "      <th></th>\n",
       "      <th>TV</th>\n",
       "      <th>radio</th>\n",
       "      <th>newspaper</th>\n",
       "      <th>sales</th>\n",
       "    </tr>\n",
       "  </thead>\n",
       "  <tbody>\n",
       "    <tr>\n",
       "      <th>count</th>\n",
       "      <td>200.000000</td>\n",
       "      <td>200.000000</td>\n",
       "      <td>200.000000</td>\n",
       "      <td>200.000000</td>\n",
       "    </tr>\n",
       "    <tr>\n",
       "      <th>mean</th>\n",
       "      <td>147.042500</td>\n",
       "      <td>23.264000</td>\n",
       "      <td>30.554000</td>\n",
       "      <td>14.022500</td>\n",
       "    </tr>\n",
       "    <tr>\n",
       "      <th>std</th>\n",
       "      <td>85.854236</td>\n",
       "      <td>14.846809</td>\n",
       "      <td>21.778621</td>\n",
       "      <td>5.217457</td>\n",
       "    </tr>\n",
       "    <tr>\n",
       "      <th>min</th>\n",
       "      <td>0.700000</td>\n",
       "      <td>0.000000</td>\n",
       "      <td>0.300000</td>\n",
       "      <td>1.600000</td>\n",
       "    </tr>\n",
       "    <tr>\n",
       "      <th>25%</th>\n",
       "      <td>74.375000</td>\n",
       "      <td>9.975000</td>\n",
       "      <td>12.750000</td>\n",
       "      <td>10.375000</td>\n",
       "    </tr>\n",
       "    <tr>\n",
       "      <th>50%</th>\n",
       "      <td>149.750000</td>\n",
       "      <td>22.900000</td>\n",
       "      <td>25.750000</td>\n",
       "      <td>12.900000</td>\n",
       "    </tr>\n",
       "    <tr>\n",
       "      <th>75%</th>\n",
       "      <td>218.825000</td>\n",
       "      <td>36.525000</td>\n",
       "      <td>45.100000</td>\n",
       "      <td>17.400000</td>\n",
       "    </tr>\n",
       "    <tr>\n",
       "      <th>max</th>\n",
       "      <td>296.400000</td>\n",
       "      <td>49.600000</td>\n",
       "      <td>114.000000</td>\n",
       "      <td>27.000000</td>\n",
       "    </tr>\n",
       "  </tbody>\n",
       "</table>\n",
       "</div>"
      ],
      "text/plain": [
       "               TV       radio   newspaper       sales\n",
       "count  200.000000  200.000000  200.000000  200.000000\n",
       "mean   147.042500   23.264000   30.554000   14.022500\n",
       "std     85.854236   14.846809   21.778621    5.217457\n",
       "min      0.700000    0.000000    0.300000    1.600000\n",
       "25%     74.375000    9.975000   12.750000   10.375000\n",
       "50%    149.750000   22.900000   25.750000   12.900000\n",
       "75%    218.825000   36.525000   45.100000   17.400000\n",
       "max    296.400000   49.600000  114.000000   27.000000"
      ]
     },
     "execution_count": 9,
     "metadata": {},
     "output_type": "execute_result"
    }
   ],
   "source": [
    "df.describe()"
   ]
  },
  {
   "cell_type": "code",
   "execution_count": 10,
   "id": "a1aac7bb",
   "metadata": {},
   "outputs": [
    {
     "data": {
      "text/plain": [
       "False    199\n",
       "True       1\n",
       "Name: radio, dtype: int64"
      ]
     },
     "execution_count": 10,
     "metadata": {},
     "output_type": "execute_result"
    }
   ],
   "source": [
    "(df[\"radio\"]==0).value_counts()"
   ]
  },
  {
   "cell_type": "code",
   "execution_count": 11,
   "id": "fb510430",
   "metadata": {},
   "outputs": [
    {
     "data": {
      "text/html": [
       "<div>\n",
       "<style scoped>\n",
       "    .dataframe tbody tr th:only-of-type {\n",
       "        vertical-align: middle;\n",
       "    }\n",
       "\n",
       "    .dataframe tbody tr th {\n",
       "        vertical-align: top;\n",
       "    }\n",
       "\n",
       "    .dataframe thead th {\n",
       "        text-align: right;\n",
       "    }\n",
       "</style>\n",
       "<table border=\"1\" class=\"dataframe\">\n",
       "  <thead>\n",
       "    <tr style=\"text-align: right;\">\n",
       "      <th></th>\n",
       "      <th>TV</th>\n",
       "      <th>radio</th>\n",
       "      <th>newspaper</th>\n",
       "      <th>sales</th>\n",
       "    </tr>\n",
       "    <tr>\n",
       "      <th>Unnamed: 0</th>\n",
       "      <th></th>\n",
       "      <th></th>\n",
       "      <th></th>\n",
       "      <th></th>\n",
       "    </tr>\n",
       "  </thead>\n",
       "  <tbody>\n",
       "    <tr>\n",
       "      <th>128</th>\n",
       "      <td>80.2</td>\n",
       "      <td>0.0</td>\n",
       "      <td>9.2</td>\n",
       "      <td>8.8</td>\n",
       "    </tr>\n",
       "  </tbody>\n",
       "</table>\n",
       "</div>"
      ],
      "text/plain": [
       "              TV  radio  newspaper  sales\n",
       "Unnamed: 0                               \n",
       "128         80.2    0.0        9.2    8.8"
      ]
     },
     "execution_count": 11,
     "metadata": {},
     "output_type": "execute_result"
    }
   ],
   "source": [
    "df.loc[df[\"radio\"]==0]"
   ]
  },
  {
   "cell_type": "markdown",
   "id": "ce1c7dd1",
   "metadata": {},
   "source": [
    "There is one row having value 0 in radio column, not dropping it because other columns having values.so that would help us for prediction"
   ]
  },
  {
   "cell_type": "markdown",
   "id": "e47af41a",
   "metadata": {},
   "source": [
    "# Exploratory Data Analysis"
   ]
  },
  {
   "cell_type": "code",
   "execution_count": 12,
   "id": "f6ce9153",
   "metadata": {},
   "outputs": [],
   "source": [
    "import seaborn as sns\n",
    "import matplotlib.pyplot as plt\n",
    "import scipy.stats\n",
    "import warnings\n",
    "warnings.filterwarnings('ignore')"
   ]
  },
  {
   "cell_type": "code",
   "execution_count": 13,
   "id": "e583bf5b",
   "metadata": {},
   "outputs": [],
   "source": [
    "corr=df.corr()"
   ]
  },
  {
   "cell_type": "code",
   "execution_count": 14,
   "id": "eb03f78e",
   "metadata": {},
   "outputs": [
    {
     "name": "stdout",
     "output_type": "stream",
     "text": [
      "                 TV     radio  newspaper     sales\n",
      "TV         1.000000  0.054809   0.056648  0.782224\n",
      "radio      0.054809  1.000000   0.354104  0.576223\n",
      "newspaper  0.056648  0.354104   1.000000  0.228299\n",
      "sales      0.782224  0.576223   0.228299  1.000000\n"
     ]
    },
    {
     "data": {
      "text/plain": [
       "<AxesSubplot:>"
      ]
     },
     "execution_count": 14,
     "metadata": {},
     "output_type": "execute_result"
    },
    {
     "data": {
      "image/png": "[encoded data removed]",
      "text/plain": [
       "<Figure size 432x288 with 2 Axes>"
      ]
     },
     "metadata": {
      "needs_background": "light"
     },
     "output_type": "display_data"
    }
   ],
   "source": [
    "print(corr)\n",
    "sns.heatmap(corr,cmap=\"Accent\", annot=True, linewidth=0.2)"
   ]
  },
  {
   "cell_type": "markdown",
   "id": "93017e5b",
   "metadata": {},
   "source": [
    "1. Here, we can notice that sale is highly corelated with TV advertisement\n",
    "2. Newspaper ads have very  less effect on sale"
   ]
  },
  {
   "cell_type": "code",
   "execution_count": 15,
   "id": "29644e5f",
   "metadata": {},
   "outputs": [
    {
     "data": {
      "text/plain": [
       "<matplotlib.collections.PathCollection at 0x23d60ffb2e0>"
      ]
     },
     "execution_count": 15,
     "metadata": {},
     "output_type": "execute_result"
    },
    {
     "data": {
      "image/png": "[encoded data removed]",
      "text/plain": [
       "<Figure size 432x288 with 1 Axes>"
      ]
     },
     "metadata": {
      "needs_background": "light"
     },
     "output_type": "display_data"
    }
   ],
   "source": [
    "plt.scatter(x = 'sales', y = 'TV', data = df,c='g')"
   ]
  },
  {
   "cell_type": "markdown",
   "id": "729bb44c",
   "metadata": {},
   "source": [
    "Look here the count around 25 TV ads sales going upto count of 300\n"
   ]
  },
  {
   "cell_type": "code",
   "execution_count": 16,
   "id": "fa36bdb3",
   "metadata": {},
   "outputs": [
    {
     "data": {
      "text/plain": [
       "<matplotlib.collections.PathCollection at 0x23d61064970>"
      ]
     },
     "execution_count": 16,
     "metadata": {},
     "output_type": "execute_result"
    },
    {
     "data": {
      "image/png": "[encoded data removed]",
      "text/plain": [
       "<Figure size 432x288 with 1 Axes>"
      ]
     },
     "metadata": {
      "needs_background": "light"
     },
     "output_type": "display_data"
    }
   ],
   "source": [
    "plt.scatter(x = 'sales', y = 'radio', data = df,c='b')"
   ]
  },
  {
   "cell_type": "markdown",
   "id": "405352d3",
   "metadata": {},
   "source": [
    "here we notice with help of around 25 ads of radio sales going upto 50 only\n"
   ]
  },
  {
   "cell_type": "code",
   "execution_count": 17,
   "id": "eac4dba5",
   "metadata": {},
   "outputs": [
    {
     "data": {
      "text/plain": [
       "<matplotlib.collections.PathCollection at 0x23d610c69a0>"
      ]
     },
     "execution_count": 17,
     "metadata": {},
     "output_type": "execute_result"
    },
    {
     "data": {
      "image/png": "[encoded data removed]",
      "text/plain": [
       "<Figure size 432x288 with 1 Axes>"
      ]
     },
     "metadata": {
      "needs_background": "light"
     },
     "output_type": "display_data"
    }
   ],
   "source": [
    "plt.scatter(x = 'sales', y = 'newspaper', data = df,c='y')"
   ]
  },
  {
   "cell_type": "markdown",
   "id": "aedae6ff",
   "metadata": {},
   "source": [
    "here we notice around 25 ads of newspaper sale spreads sometime up and somtime down\n"
   ]
  },
  {
   "cell_type": "markdown",
   "id": "d44bd2a5",
   "metadata": {},
   "source": [
    "### CONCLUSION"
   ]
  },
  {
   "cell_type": "markdown",
   "id": "46ca4bf1",
   "metadata": {},
   "source": [
    "* If we focus on TV Advertisement more we can get more sales, We have to work hard & some creative more on Radio & Newspaper Ads to get more sales\n"
   ]
  },
  {
   "cell_type": "markdown",
   "id": "6d74d779",
   "metadata": {},
   "source": [
    "# checking for outliers\n"
   ]
  },
  {
   "cell_type": "code",
   "execution_count": 18,
   "id": "cb0fbf35",
   "metadata": {},
   "outputs": [
    {
     "data": {
      "image/png": "[encoded data removed]",
      "text/plain": [
       "<Figure size 1152x720 with 4 Axes>"
      ]
     },
     "metadata": {
      "needs_background": "light"
     },
     "output_type": "display_data"
    }
   ],
   "source": [
    "plt.figure(figsize=(16,10))\n",
    "for o in enumerate(df):\n",
    "    plt.subplot(3,3,o[0]+1)\n",
    "    sns.boxplot(df[o[1]])"
   ]
  },
  {
   "cell_type": "markdown",
   "id": "3116bb91",
   "metadata": {},
   "source": [
    "In the above boxplot we have outliers in the \"newspaper\" column"
   ]
  },
  {
   "cell_type": "markdown",
   "id": "0f557157",
   "metadata": {},
   "source": [
    "### Lets remove the outliers"
   ]
  },
  {
   "cell_type": "markdown",
   "id": "0f92f8c5",
   "metadata": {},
   "source": [
    "#### ZSCORE METHOD"
   ]
  },
  {
   "cell_type": "code",
   "execution_count": 19,
   "id": "6477c6e5",
   "metadata": {},
   "outputs": [
    {
     "name": "stdout",
     "output_type": "stream",
     "text": [
      "(array([ 16, 101], dtype=int64), array([2, 2], dtype=int64))\n"
     ]
    }
   ],
   "source": [
    "#zscore \n",
    "\n",
    "from scipy.stats import zscore\n",
    "\n",
    "z = np.abs(zscore(df))\n",
    "\n",
    "print(np.where(z>3))\n"
   ]
  },
  {
   "cell_type": "code",
   "execution_count": 20,
   "id": "31f7de1c",
   "metadata": {},
   "outputs": [
    {
     "name": "stdout",
     "output_type": "stream",
     "text": [
      "with outliers:: (200, 4)\n",
      "After removing outliers:: (198, 4)\n"
     ]
    }
   ],
   "source": [
    "df_1=df[(z<3).all(axis=1)]\n",
    "print(\"with outliers::\",df.shape)\n",
    "print(\"After removing outliers::\",df_1.shape)\n"
   ]
  },
  {
   "cell_type": "markdown",
   "id": "67c63b69",
   "metadata": {},
   "source": [
    "# IQR METHOD"
   ]
  },
  {
   "cell_type": "code",
   "execution_count": 21,
   "id": "ec58b758",
   "metadata": {},
   "outputs": [
    {
     "data": {
      "text/plain": [
       "38.525"
      ]
     },
     "execution_count": 21,
     "metadata": {},
     "output_type": "execute_result"
    }
   ],
   "source": [
    "#IQR\n",
    "from scipy import stats\n",
    "IQR = stats.iqr(df)\n",
    "IQR"
   ]
  },
  {
   "cell_type": "code",
   "execution_count": 22,
   "id": "cee8a63a",
   "metadata": {},
   "outputs": [],
   "source": [
    "Q1= df.quantile(0.25)\n",
    "Q3= df.quantile(0.75)"
   ]
  },
  {
   "cell_type": "code",
   "execution_count": 23,
   "id": "0a33f2c6",
   "metadata": {},
   "outputs": [
    {
     "name": "stdout",
     "output_type": "stream",
     "text": [
      "(174, 4)\n"
     ]
    }
   ],
   "source": [
    "df_out = df[~((df < (Q1 - 1.5 * IQR)) |(df > (Q3 + 1.5 * IQR))).any(axis=1)]\n",
    "print(df_out.shape)"
   ]
  },
  {
   "cell_type": "markdown",
   "id": "b84e99f6",
   "metadata": {},
   "source": [
    "We can notice using IQR method for outliers removal there is huge data loss so considering ZSCORE METHOD\n"
   ]
  },
  {
   "cell_type": "code",
   "execution_count": 24,
   "id": "ec3950f5",
   "metadata": {},
   "outputs": [],
   "source": [
    "df=df_1\n"
   ]
  },
  {
   "cell_type": "code",
   "execution_count": 25,
   "id": "7b5f6ca0",
   "metadata": {},
   "outputs": [
    {
     "data": {
      "text/plain": [
       "(198, 4)"
      ]
     },
     "execution_count": 25,
     "metadata": {},
     "output_type": "execute_result"
    }
   ],
   "source": [
    "df.shape"
   ]
  },
  {
   "cell_type": "code",
   "execution_count": 26,
   "id": "2f9ba217",
   "metadata": {},
   "outputs": [
    {
     "data": {
      "text/plain": [
       "{'whiskers': [<matplotlib.lines.Line2D at 0x23d6128bca0>,\n",
       "  <matplotlib.lines.Line2D at 0x23d6128bf70>],\n",
       " 'caps': [<matplotlib.lines.Line2D at 0x23d61299160>,\n",
       "  <matplotlib.lines.Line2D at 0x23d612994f0>],\n",
       " 'boxes': [<matplotlib.lines.Line2D at 0x23d6128b910>],\n",
       " 'medians': [<matplotlib.lines.Line2D at 0x23d61299880>],\n",
       " 'fliers': [<matplotlib.lines.Line2D at 0x23d61299c10>],\n",
       " 'means': []}"
      ]
     },
     "execution_count": 26,
     "metadata": {},
     "output_type": "execute_result"
    },
    {
     "data": {
      "image/png": "[encoded data removed]",
      "text/plain": [
       "<Figure size 432x288 with 1 Axes>"
      ]
     },
     "metadata": {
      "needs_background": "light"
     },
     "output_type": "display_data"
    }
   ],
   "source": [
    "plt.boxplot(df['newspaper'])"
   ]
  },
  {
   "cell_type": "markdown",
   "id": "972060c1",
   "metadata": {},
   "source": [
    "We can see here the outliers have been removed from newspaper column"
   ]
  },
  {
   "cell_type": "markdown",
   "id": "30b60407",
   "metadata": {},
   "source": [
    "## Lets Check for Skewness"
   ]
  },
  {
   "cell_type": "code",
   "execution_count": 27,
   "id": "ca93efb5",
   "metadata": {},
   "outputs": [
    {
     "data": {
      "image/png": "[encoded data removed]",
      "text/plain": [
       "<Figure size 1080x576 with 4 Axes>"
      ]
     },
     "metadata": {
      "needs_background": "light"
     },
     "output_type": "display_data"
    }
   ],
   "source": [
    "plt.figure(figsize=(15,8))\n",
    "for i in enumerate(df):\n",
    "    plt.subplot(2,2,i[0]+1)\n",
    "    sns.distplot(df[i[1]],color='y')"
   ]
  },
  {
   "cell_type": "code",
   "execution_count": 28,
   "id": "d1991d1d",
   "metadata": {},
   "outputs": [
    {
     "data": {
      "text/plain": [
       "TV          -0.082332\n",
       "radio        0.114842\n",
       "newspaper    0.650112\n",
       "sales        0.407130\n",
       "dtype: float64"
      ]
     },
     "execution_count": 28,
     "metadata": {},
     "output_type": "execute_result"
    }
   ],
   "source": [
    "df.skew()"
   ]
  },
  {
   "cell_type": "markdown",
   "id": "8974c797",
   "metadata": {},
   "source": [
    "we can see here there is skewness in newspaper columns\n"
   ]
  },
  {
   "cell_type": "markdown",
   "id": "9861b2e1",
   "metadata": {},
   "source": [
    "### Removing the Skewness"
   ]
  },
  {
   "cell_type": "code",
   "execution_count": 29,
   "id": "c4a1b031",
   "metadata": {},
   "outputs": [],
   "source": [
    "df['newspaper']=np.sqrt(df['newspaper'])"
   ]
  },
  {
   "cell_type": "code",
   "execution_count": 30,
   "id": "987c4238",
   "metadata": {},
   "outputs": [
    {
     "data": {
      "text/plain": [
       "TV          -0.082332\n",
       "radio        0.114842\n",
       "newspaper   -0.040649\n",
       "sales        0.407130\n",
       "dtype: float64"
      ]
     },
     "execution_count": 30,
     "metadata": {},
     "output_type": "execute_result"
    }
   ],
   "source": [
    "df.skew()"
   ]
  },
  {
   "cell_type": "markdown",
   "id": "b1a55fc2",
   "metadata": {},
   "source": [
    "Now the skewness has been removed from newspaper column"
   ]
  },
  {
   "cell_type": "code",
   "execution_count": 31,
   "id": "e2adc65a",
   "metadata": {},
   "outputs": [],
   "source": [
    "x=df.drop(['sales'], axis=1)\n",
    "y=df['sales']"
   ]
  },
  {
   "cell_type": "code",
   "execution_count": 32,
   "id": "a1893c7f",
   "metadata": {},
   "outputs": [
    {
     "name": "stdout",
     "output_type": "stream",
     "text": [
      "(198, 3)\n",
      "(198,)\n"
     ]
    }
   ],
   "source": [
    "print(x.shape)\n",
    "print(y.shape)"
   ]
  },
  {
   "cell_type": "markdown",
   "id": "d71a95a3",
   "metadata": {},
   "source": [
    "### SCALLING DATA"
   ]
  },
  {
   "cell_type": "code",
   "execution_count": 33,
   "id": "4fc47d15",
   "metadata": {},
   "outputs": [],
   "source": [
    "from sklearn.preprocessing import MinMaxScaler\n",
    "\n",
    "sc=MinMaxScaler()\n",
    "x=sc.fit_transform(x)\n"
   ]
  },
  {
   "cell_type": "code",
   "execution_count": 34,
   "id": "cd51203a",
   "metadata": {},
   "outputs": [
    {
     "data": {
      "text/html": [
       "<div>\n",
       "<style scoped>\n",
       "    .dataframe tbody tr th:only-of-type {\n",
       "        vertical-align: middle;\n",
       "    }\n",
       "\n",
       "    .dataframe tbody tr th {\n",
       "        vertical-align: top;\n",
       "    }\n",
       "\n",
       "    .dataframe thead th {\n",
       "        text-align: right;\n",
       "    }\n",
       "</style>\n",
       "<table border=\"1\" class=\"dataframe\">\n",
       "  <thead>\n",
       "    <tr style=\"text-align: right;\">\n",
       "      <th></th>\n",
       "      <th>0</th>\n",
       "      <th>1</th>\n",
       "      <th>2</th>\n",
       "    </tr>\n",
       "  </thead>\n",
       "  <tbody>\n",
       "    <tr>\n",
       "      <th>count</th>\n",
       "      <td>198.000000</td>\n",
       "      <td>198.000000</td>\n",
       "      <td>198.000000</td>\n",
       "    </tr>\n",
       "    <tr>\n",
       "      <th>mean</th>\n",
       "      <td>0.498424</td>\n",
       "      <td>0.466347</td>\n",
       "      <td>0.509620</td>\n",
       "    </tr>\n",
       "    <tr>\n",
       "      <th>std</th>\n",
       "      <td>0.291715</td>\n",
       "      <td>0.299639</td>\n",
       "      <td>0.222222</td>\n",
       "    </tr>\n",
       "    <tr>\n",
       "      <th>min</th>\n",
       "      <td>0.000000</td>\n",
       "      <td>0.000000</td>\n",
       "      <td>0.000000</td>\n",
       "    </tr>\n",
       "    <tr>\n",
       "      <th>25%</th>\n",
       "      <td>0.252987</td>\n",
       "      <td>0.200101</td>\n",
       "      <td>0.337801</td>\n",
       "    </tr>\n",
       "    <tr>\n",
       "      <th>50%</th>\n",
       "      <td>0.508877</td>\n",
       "      <td>0.451613</td>\n",
       "      <td>0.506534</td>\n",
       "    </tr>\n",
       "    <tr>\n",
       "      <th>75%</th>\n",
       "      <td>0.743513</td>\n",
       "      <td>0.732359</td>\n",
       "      <td>0.683610</td>\n",
       "    </tr>\n",
       "    <tr>\n",
       "      <th>max</th>\n",
       "      <td>1.000000</td>\n",
       "      <td>1.000000</td>\n",
       "      <td>1.000000</td>\n",
       "    </tr>\n",
       "  </tbody>\n",
       "</table>\n",
       "</div>"
      ],
      "text/plain": [
       "                0           1           2\n",
       "count  198.000000  198.000000  198.000000\n",
       "mean     0.498424    0.466347    0.509620\n",
       "std      0.291715    0.299639    0.222222\n",
       "min      0.000000    0.000000    0.000000\n",
       "25%      0.252987    0.200101    0.337801\n",
       "50%      0.508877    0.451613    0.506534\n",
       "75%      0.743513    0.732359    0.683610\n",
       "max      1.000000    1.000000    1.000000"
      ]
     },
     "execution_count": 34,
     "metadata": {},
     "output_type": "execute_result"
    }
   ],
   "source": [
    "pd.DataFrame(x).describe()"
   ]
  },
  {
   "cell_type": "code",
   "execution_count": 35,
   "id": "a8a5cb39",
   "metadata": {},
   "outputs": [
    {
     "data": {
      "text/plain": [
       "(198, 3)"
      ]
     },
     "execution_count": 35,
     "metadata": {},
     "output_type": "execute_result"
    }
   ],
   "source": [
    "x.shape"
   ]
  },
  {
   "cell_type": "code",
   "execution_count": null,
   "id": "9f74a30b",
   "metadata": {},
   "outputs": [],
   "source": []
  },
  {
   "cell_type": "markdown",
   "id": "0fa4491a",
   "metadata": {},
   "source": [
    "# MODEL BUILDING"
   ]
  },
  {
   "cell_type": "markdown",
   "id": "5eb642ee",
   "metadata": {},
   "source": [
    "## Linear Regression"
   ]
  },
  {
   "cell_type": "code",
   "execution_count": 36,
   "id": "e1f81574",
   "metadata": {},
   "outputs": [],
   "source": [
    "from sklearn.metrics import mean_squared_error,mean_absolute_error\n",
    "from sklearn.metrics import r2_score\n",
    "from sklearn.model_selection import train_test_split\n",
    "from sklearn.model_selection import cross_val_score\n",
    "from sklearn.linear_model import LinearRegression\n"
   ]
  },
  {
   "cell_type": "code",
   "execution_count": 37,
   "id": "802478ad",
   "metadata": {},
   "outputs": [
    {
     "name": "stdout",
     "output_type": "stream",
     "text": [
      "At random state 0, The training accuracy is: 0.8899808679263099\n",
      "At random state 0, The test accuracy is: 0.8899808679263099\n",
      "\n",
      "\n",
      "At random state 1, The training accuracy is: 0.8945018460466634\n",
      "At random state 1, The test accuracy is: 0.8945018460466634\n",
      "\n",
      "\n",
      "At random state 2, The training accuracy is: 0.9104895320853252\n",
      "At random state 2, The test accuracy is: 0.9104895320853252\n",
      "\n",
      "\n",
      "At random state 3, The training accuracy is: 0.8945008732306111\n",
      "At random state 3, The test accuracy is: 0.8945008732306111\n",
      "\n",
      "\n",
      "At random state 4, The training accuracy is: 0.8980063011610756\n",
      "At random state 4, The test accuracy is: 0.8980063011610756\n",
      "\n",
      "\n",
      "At random state 5, The training accuracy is: 0.8993019881675024\n",
      "At random state 5, The test accuracy is: 0.8993019881675024\n",
      "\n",
      "\n",
      "At random state 6, The training accuracy is: 0.8991574664390982\n",
      "At random state 6, The test accuracy is: 0.8991574664390982\n",
      "\n",
      "\n",
      "At random state 7, The training accuracy is: 0.890944609101688\n",
      "At random state 7, The test accuracy is: 0.890944609101688\n",
      "\n",
      "\n",
      "At random state 8, The training accuracy is: 0.9023892159093364\n",
      "At random state 8, The test accuracy is: 0.9023892159093364\n",
      "\n",
      "\n",
      "At random state 9, The training accuracy is: 0.8894121458179546\n",
      "At random state 9, The test accuracy is: 0.8894121458179546\n",
      "\n",
      "\n",
      "At random state 10, The training accuracy is: 0.9234817137067555\n",
      "At random state 10, The test accuracy is: 0.9234817137067555\n",
      "\n",
      "\n",
      "At random state 11, The training accuracy is: 0.8847579028807493\n",
      "At random state 11, The test accuracy is: 0.8847579028807493\n",
      "\n",
      "\n",
      "At random state 12, The training accuracy is: 0.8931848342049384\n",
      "At random state 12, The test accuracy is: 0.8931848342049384\n",
      "\n",
      "\n",
      "At random state 13, The training accuracy is: 0.9072955780343295\n",
      "At random state 13, The test accuracy is: 0.9072955780343295\n",
      "\n",
      "\n",
      "At random state 14, The training accuracy is: 0.8855713645648354\n",
      "At random state 14, The test accuracy is: 0.8855713645648354\n",
      "\n",
      "\n",
      "At random state 15, The training accuracy is: 0.8912146118345223\n",
      "At random state 15, The test accuracy is: 0.8912146118345223\n",
      "\n",
      "\n",
      "At random state 16, The training accuracy is: 0.8902875167485288\n",
      "At random state 16, The test accuracy is: 0.8902875167485288\n",
      "\n",
      "\n",
      "At random state 17, The training accuracy is: 0.8886354795189352\n",
      "At random state 17, The test accuracy is: 0.8886354795189352\n",
      "\n",
      "\n",
      "At random state 18, The training accuracy is: 0.910617752658842\n",
      "At random state 18, The test accuracy is: 0.910617752658842\n",
      "\n",
      "\n",
      "At random state 19, The training accuracy is: 0.8951754779937969\n",
      "At random state 19, The test accuracy is: 0.8951754779937969\n",
      "\n",
      "\n",
      "At random state 20, The training accuracy is: 0.8863601802303691\n",
      "At random state 20, The test accuracy is: 0.8863601802303691\n",
      "\n",
      "\n",
      "At random state 21, The training accuracy is: 0.884474753346419\n",
      "At random state 21, The test accuracy is: 0.884474753346419\n",
      "\n",
      "\n",
      "At random state 22, The training accuracy is: 0.8861759776656968\n",
      "At random state 22, The test accuracy is: 0.8861759776656968\n",
      "\n",
      "\n",
      "At random state 23, The training accuracy is: 0.8848527733114713\n",
      "At random state 23, The test accuracy is: 0.8848527733114713\n",
      "\n",
      "\n",
      "At random state 24, The training accuracy is: 0.8807167144986324\n",
      "At random state 24, The test accuracy is: 0.8807167144986324\n",
      "\n",
      "\n",
      "At random state 25, The training accuracy is: 0.8828726818254515\n",
      "At random state 25, The test accuracy is: 0.8828726818254515\n",
      "\n",
      "\n",
      "At random state 26, The training accuracy is: 0.9048386945259568\n",
      "At random state 26, The test accuracy is: 0.9048386945259568\n",
      "\n",
      "\n",
      "At random state 27, The training accuracy is: 0.9093877544856235\n",
      "At random state 27, The test accuracy is: 0.9093877544856235\n",
      "\n",
      "\n",
      "At random state 28, The training accuracy is: 0.9149923897944576\n",
      "At random state 28, The test accuracy is: 0.9149923897944576\n",
      "\n",
      "\n",
      "At random state 29, The training accuracy is: 0.9079850559017626\n",
      "At random state 29, The test accuracy is: 0.9079850559017626\n",
      "\n",
      "\n",
      "At random state 30, The training accuracy is: 0.9124839582885386\n",
      "At random state 30, The test accuracy is: 0.9124839582885386\n",
      "\n",
      "\n",
      "At random state 31, The training accuracy is: 0.8807813164903345\n",
      "At random state 31, The test accuracy is: 0.8807813164903345\n",
      "\n",
      "\n",
      "At random state 32, The training accuracy is: 0.8878745837425007\n",
      "At random state 32, The test accuracy is: 0.8878745837425007\n",
      "\n",
      "\n",
      "At random state 33, The training accuracy is: 0.8879882989708496\n",
      "At random state 33, The test accuracy is: 0.8879882989708496\n",
      "\n",
      "\n",
      "At random state 34, The training accuracy is: 0.8963326815087106\n",
      "At random state 34, The test accuracy is: 0.8963326815087106\n",
      "\n",
      "\n",
      "At random state 35, The training accuracy is: 0.890330086541364\n",
      "At random state 35, The test accuracy is: 0.890330086541364\n",
      "\n",
      "\n",
      "At random state 36, The training accuracy is: 0.8896047763344989\n",
      "At random state 36, The test accuracy is: 0.8896047763344989\n",
      "\n",
      "\n",
      "At random state 37, The training accuracy is: 0.8928000346196905\n",
      "At random state 37, The test accuracy is: 0.8928000346196905\n",
      "\n",
      "\n",
      "At random state 38, The training accuracy is: 0.8897992521999325\n",
      "At random state 38, The test accuracy is: 0.8897992521999325\n",
      "\n",
      "\n",
      "At random state 39, The training accuracy is: 0.9036070955828279\n",
      "At random state 39, The test accuracy is: 0.9036070955828279\n",
      "\n",
      "\n",
      "At random state 40, The training accuracy is: 0.8938831948100018\n",
      "At random state 40, The test accuracy is: 0.8938831948100018\n",
      "\n",
      "\n",
      "At random state 41, The training accuracy is: 0.8988787589416551\n",
      "At random state 41, The test accuracy is: 0.8988787589416551\n",
      "\n",
      "\n",
      "At random state 42, The training accuracy is: 0.8939442665762621\n",
      "At random state 42, The test accuracy is: 0.8939442665762621\n",
      "\n",
      "\n",
      "At random state 43, The training accuracy is: 0.9001636599429672\n",
      "At random state 43, The test accuracy is: 0.9001636599429672\n",
      "\n",
      "\n",
      "At random state 44, The training accuracy is: 0.9029550404208074\n",
      "At random state 44, The test accuracy is: 0.9029550404208074\n",
      "\n",
      "\n",
      "At random state 45, The training accuracy is: 0.8977442277455934\n",
      "At random state 45, The test accuracy is: 0.8977442277455934\n",
      "\n",
      "\n",
      "At random state 46, The training accuracy is: 0.8990385584067329\n",
      "At random state 46, The test accuracy is: 0.8990385584067329\n",
      "\n",
      "\n",
      "At random state 47, The training accuracy is: 0.8948665010955633\n",
      "At random state 47, The test accuracy is: 0.8948665010955633\n",
      "\n",
      "\n",
      "At random state 48, The training accuracy is: 0.9015776846896191\n",
      "At random state 48, The test accuracy is: 0.9015776846896191\n",
      "\n",
      "\n",
      "At random state 49, The training accuracy is: 0.9105423653107543\n",
      "At random state 49, The test accuracy is: 0.9105423653107543\n",
      "\n",
      "\n",
      "At random state 50, The training accuracy is: 0.9009852860973523\n",
      "At random state 50, The test accuracy is: 0.9009852860973523\n",
      "\n",
      "\n",
      "At random state 51, The training accuracy is: 0.8931532403468286\n",
      "At random state 51, The test accuracy is: 0.8931532403468286\n",
      "\n",
      "\n",
      "At random state 52, The training accuracy is: 0.8947509459615383\n",
      "At random state 52, The test accuracy is: 0.8947509459615383\n",
      "\n",
      "\n",
      "At random state 53, The training accuracy is: 0.904874673000394\n",
      "At random state 53, The test accuracy is: 0.904874673000394\n",
      "\n",
      "\n",
      "At random state 54, The training accuracy is: 0.898221004570017\n",
      "At random state 54, The test accuracy is: 0.898221004570017\n",
      "\n",
      "\n",
      "At random state 55, The training accuracy is: 0.8931964541935601\n",
      "At random state 55, The test accuracy is: 0.8931964541935601\n",
      "\n",
      "\n",
      "At random state 56, The training accuracy is: 0.9060692378798125\n",
      "At random state 56, The test accuracy is: 0.9060692378798125\n",
      "\n",
      "\n",
      "At random state 57, The training accuracy is: 0.9029895636543817\n",
      "At random state 57, The test accuracy is: 0.9029895636543817\n",
      "\n",
      "\n",
      "At random state 58, The training accuracy is: 0.8814905568092585\n",
      "At random state 58, The test accuracy is: 0.8814905568092585\n",
      "\n",
      "\n",
      "At random state 59, The training accuracy is: 0.8874616860462765\n",
      "At random state 59, The test accuracy is: 0.8874616860462765\n",
      "\n",
      "\n",
      "At random state 60, The training accuracy is: 0.8983883112872219\n",
      "At random state 60, The test accuracy is: 0.8983883112872219\n",
      "\n",
      "\n",
      "At random state 61, The training accuracy is: 0.9043643738374807\n",
      "At random state 61, The test accuracy is: 0.9043643738374807\n",
      "\n",
      "\n",
      "At random state 62, The training accuracy is: 0.900641456423033\n",
      "At random state 62, The test accuracy is: 0.900641456423033\n",
      "\n",
      "\n",
      "At random state 63, The training accuracy is: 0.894043405997483\n",
      "At random state 63, The test accuracy is: 0.894043405997483\n",
      "\n",
      "\n",
      "At random state 64, The training accuracy is: 0.886133112177135\n",
      "At random state 64, The test accuracy is: 0.886133112177135\n",
      "\n",
      "\n",
      "At random state 65, The training accuracy is: 0.8978432738005423\n",
      "At random state 65, The test accuracy is: 0.8978432738005423\n",
      "\n",
      "\n",
      "At random state 66, The training accuracy is: 0.9001082700395925\n",
      "At random state 66, The test accuracy is: 0.9001082700395925\n",
      "\n",
      "\n",
      "At random state 67, The training accuracy is: 0.8915025477235988\n",
      "At random state 67, The test accuracy is: 0.8915025477235988\n",
      "\n",
      "\n",
      "At random state 68, The training accuracy is: 0.9028493757450913\n",
      "At random state 68, The test accuracy is: 0.9028493757450913\n",
      "\n",
      "\n",
      "At random state 69, The training accuracy is: 0.8915063040754967\n",
      "At random state 69, The test accuracy is: 0.8915063040754967\n",
      "\n",
      "\n",
      "At random state 70, The training accuracy is: 0.8834039435694677\n",
      "At random state 70, The test accuracy is: 0.8834039435694677\n",
      "\n",
      "\n",
      "At random state 71, The training accuracy is: 0.9093852989222347\n",
      "At random state 71, The test accuracy is: 0.9093852989222347\n",
      "\n",
      "\n",
      "At random state 72, The training accuracy is: 0.887909641380888\n",
      "At random state 72, The test accuracy is: 0.887909641380888\n",
      "\n",
      "\n",
      "At random state 73, The training accuracy is: 0.8960910447264088\n",
      "At random state 73, The test accuracy is: 0.8960910447264088\n",
      "\n",
      "\n",
      "At random state 74, The training accuracy is: 0.8738718540420292\n",
      "At random state 74, The test accuracy is: 0.8738718540420292\n",
      "\n",
      "\n",
      "At random state 75, The training accuracy is: 0.8953946547741162\n",
      "At random state 75, The test accuracy is: 0.8953946547741162\n",
      "\n",
      "\n",
      "At random state 76, The training accuracy is: 0.9038753805919301\n",
      "At random state 76, The test accuracy is: 0.9038753805919301\n",
      "\n",
      "\n",
      "At random state 77, The training accuracy is: 0.8889513987941758\n",
      "At random state 77, The test accuracy is: 0.8889513987941758\n",
      "\n",
      "\n",
      "At random state 78, The training accuracy is: 0.9135381248514395\n",
      "At random state 78, The test accuracy is: 0.9135381248514395\n",
      "\n",
      "\n",
      "At random state 79, The training accuracy is: 0.8920179616099255\n",
      "At random state 79, The test accuracy is: 0.8920179616099255\n",
      "\n",
      "\n",
      "At random state 80, The training accuracy is: 0.892726634902634\n",
      "At random state 80, The test accuracy is: 0.892726634902634\n",
      "\n",
      "\n",
      "At random state 81, The training accuracy is: 0.8877972939748031\n",
      "At random state 81, The test accuracy is: 0.8877972939748031\n",
      "\n",
      "\n",
      "At random state 82, The training accuracy is: 0.9088225935331654\n",
      "At random state 82, The test accuracy is: 0.9088225935331654\n",
      "\n",
      "\n",
      "At random state 83, The training accuracy is: 0.9004411052929164\n",
      "At random state 83, The test accuracy is: 0.9004411052929164\n",
      "\n",
      "\n",
      "At random state 84, The training accuracy is: 0.8837031763075625\n",
      "At random state 84, The test accuracy is: 0.8837031763075625\n",
      "\n",
      "\n",
      "At random state 85, The training accuracy is: 0.913142456288272\n",
      "At random state 85, The test accuracy is: 0.913142456288272\n",
      "\n",
      "\n",
      "At random state 86, The training accuracy is: 0.8924092314996968\n",
      "At random state 86, The test accuracy is: 0.8924092314996968\n",
      "\n",
      "\n",
      "At random state 87, The training accuracy is: 0.9138331281311072\n",
      "At random state 87, The test accuracy is: 0.9138331281311072\n",
      "\n",
      "\n",
      "At random state 88, The training accuracy is: 0.8973336703431843\n",
      "At random state 88, The test accuracy is: 0.8973336703431843\n",
      "\n",
      "\n",
      "At random state 89, The training accuracy is: 0.9032240895674261\n",
      "At random state 89, The test accuracy is: 0.9032240895674261\n",
      "\n",
      "\n",
      "At random state 90, The training accuracy is: 0.8793112686032555\n",
      "At random state 90, The test accuracy is: 0.8793112686032555\n",
      "\n",
      "\n",
      "At random state 91, The training accuracy is: 0.8927178994151133\n",
      "At random state 91, The test accuracy is: 0.8927178994151133\n",
      "\n",
      "\n",
      "At random state 92, The training accuracy is: 0.8937657169365189\n",
      "At random state 92, The test accuracy is: 0.8937657169365189\n",
      "\n",
      "\n",
      "At random state 93, The training accuracy is: 0.9081892173335392\n",
      "At random state 93, The test accuracy is: 0.9081892173335392\n",
      "\n",
      "\n",
      "At random state 94, The training accuracy is: 0.9033986835736001\n",
      "At random state 94, The test accuracy is: 0.9033986835736001\n",
      "\n",
      "\n",
      "At random state 95, The training accuracy is: 0.9081649716354206\n",
      "At random state 95, The test accuracy is: 0.9081649716354206\n",
      "\n",
      "\n",
      "At random state 96, The training accuracy is: 0.9027836209567597\n",
      "At random state 96, The test accuracy is: 0.9027836209567597\n",
      "\n",
      "\n",
      "At random state 97, The training accuracy is: 0.8943279301950892\n",
      "At random state 97, The test accuracy is: 0.8943279301950892\n",
      "\n",
      "\n",
      "At random state 98, The training accuracy is: 0.9084859758312095\n",
      "At random state 98, The test accuracy is: 0.9084859758312095\n",
      "\n",
      "\n",
      "At random state 99, The training accuracy is: 0.8832335445293645\n",
      "At random state 99, The test accuracy is: 0.8832335445293645\n",
      "\n",
      "\n"
     ]
    }
   ],
   "source": [
    "LR=LinearRegression()\n",
    "\n",
    "for i in range(0,100):\n",
    "    x_train,x_test,y_train,y_test=train_test_split(x,y,test_size=0.2,random_state=i)\n",
    "    LR.fit(x_train,y_train)\n",
    "    LR_predict_train=LR.predict(x_train)\n",
    "    LR_predict_test=LR.predict(x_test)\n",
    "    print(f'At random state {i}, The training accuracy is: {r2_score(y_train,LR_predict_train)}')\n",
    "    print(f'At random state {i}, The test accuracy is: {r2_score(y_train,LR_predict_train)}')\n",
    "    print('\\n')"
   ]
  },
  {
   "cell_type": "markdown",
   "id": "ad0e1ef3",
   "metadata": {},
   "source": [
    "random state=10 giving highest accurancy, choosing that as random state"
   ]
  },
  {
   "cell_type": "markdown",
   "id": "ec804b7e",
   "metadata": {},
   "source": [
    "#### SPLITTING THE DATA WITH RANDOM STATE = 10"
   ]
  },
  {
   "cell_type": "code",
   "execution_count": 38,
   "id": "31595dcb",
   "metadata": {},
   "outputs": [],
   "source": [
    "#splitting the data into 80% training and 20% testing\n",
    "x_train,x_test,y_train,y_test=train_test_split(x,y,test_size=0.27,random_state=10)\n"
   ]
  },
  {
   "cell_type": "code",
   "execution_count": 39,
   "id": "7d5bd30f",
   "metadata": {},
   "outputs": [
    {
     "data": {
      "text/plain": [
       "(144, 3)"
      ]
     },
     "execution_count": 39,
     "metadata": {},
     "output_type": "execute_result"
    }
   ],
   "source": [
    "x_train.shape"
   ]
  },
  {
   "cell_type": "code",
   "execution_count": 40,
   "id": "9ccc56c3",
   "metadata": {},
   "outputs": [
    {
     "data": {
      "text/plain": [
       "(54, 3)"
      ]
     },
     "execution_count": 40,
     "metadata": {},
     "output_type": "execute_result"
    }
   ],
   "source": [
    "x_test.shape"
   ]
  },
  {
   "cell_type": "code",
   "execution_count": 41,
   "id": "424a5434",
   "metadata": {},
   "outputs": [
    {
     "data": {
      "text/plain": [
       "(144,)"
      ]
     },
     "execution_count": 41,
     "metadata": {},
     "output_type": "execute_result"
    }
   ],
   "source": [
    "y_train.shape"
   ]
  },
  {
   "cell_type": "code",
   "execution_count": 42,
   "id": "4f3e3e2b",
   "metadata": {},
   "outputs": [
    {
     "data": {
      "text/plain": [
       "(54,)"
      ]
     },
     "execution_count": 42,
     "metadata": {},
     "output_type": "execute_result"
    }
   ],
   "source": [
    "y_test.shape"
   ]
  },
  {
   "cell_type": "code",
   "execution_count": 43,
   "id": "5f3663f2",
   "metadata": {},
   "outputs": [
    {
     "name": "stdout",
     "output_type": "stream",
     "text": [
      "0.9245786668414235\n"
     ]
    }
   ],
   "source": [
    "from sklearn.linear_model import LinearRegression\n",
    "\n",
    "LR=LinearRegression()\n",
    "LR.fit(x_train,y_train)\n",
    "print(LR.score(x_train,y_train))\n",
    "LR_predict=LR.predict(x_test)"
   ]
  },
  {
   "cell_type": "code",
   "execution_count": 44,
   "id": "5bda7a0e",
   "metadata": {},
   "outputs": [
    {
     "name": "stdout",
     "output_type": "stream",
     "text": [
      "MSE: 5.304745537381775\n",
      "MAE: 1.6658326319324364\n",
      "r2_score: 0.7769828816216668\n"
     ]
    }
   ],
   "source": [
    "print('MSE:',mean_squared_error(LR_predict,y_test))\n",
    "print('MAE:',mean_absolute_error(LR_predict,y_test))\n",
    "print('r2_score:',r2_score(LR_predict,y_test))\n"
   ]
  },
  {
   "cell_type": "markdown",
   "id": "4f9262f1",
   "metadata": {},
   "source": [
    "## Ridge"
   ]
  },
  {
   "cell_type": "code",
   "execution_count": 45,
   "id": "e4390999",
   "metadata": {},
   "outputs": [
    {
     "name": "stdout",
     "output_type": "stream",
     "text": [
      "0.9196432177230895\n"
     ]
    }
   ],
   "source": [
    "from sklearn.linear_model import Ridge\n",
    "\n",
    "R=Ridge()\n",
    "R.fit(x_train,y_train)\n",
    "print(R.score(x_train,y_train))\n",
    "R_predict=R.predict(x_test)"
   ]
  },
  {
   "cell_type": "code",
   "execution_count": 46,
   "id": "91d492e2",
   "metadata": {},
   "outputs": [
    {
     "name": "stdout",
     "output_type": "stream",
     "text": [
      "MSE: 5.543494620347605\n",
      "MAE: 1.6879801584468708\n",
      "r2_score: 0.7270645895933256\n"
     ]
    }
   ],
   "source": [
    "print('MSE:',mean_squared_error(R_predict,y_test))\n",
    "print('MAE:',mean_absolute_error(R_predict,y_test))\n",
    "print('r2_score:',r2_score(R_predict,y_test))"
   ]
  },
  {
   "cell_type": "markdown",
   "id": "8608c98b",
   "metadata": {},
   "source": [
    "# SVR"
   ]
  },
  {
   "cell_type": "markdown",
   "id": "e8b64cb5",
   "metadata": {},
   "source": [
    "### SVR(kernel='linear')"
   ]
  },
  {
   "cell_type": "code",
   "execution_count": 47,
   "id": "1393f126",
   "metadata": {},
   "outputs": [
    {
     "name": "stdout",
     "output_type": "stream",
     "text": [
      "0.9019313452822432\n"
     ]
    }
   ],
   "source": [
    "from sklearn.svm import SVR\n",
    "\n",
    "svr=SVR(kernel='linear')\n",
    "svr.fit(x_train,y_train)\n",
    "print(svr.score(x_train,y_train))\n",
    "svr_predict=svr.predict(x_test)"
   ]
  },
  {
   "cell_type": "code",
   "execution_count": 48,
   "id": "6e4a90a4",
   "metadata": {},
   "outputs": [
    {
     "name": "stdout",
     "output_type": "stream",
     "text": [
      "MSE: 6.407804039412683\n",
      "MAE: 1.7357326800074038\n",
      "r2_score: 0.6218905402285622\n"
     ]
    }
   ],
   "source": [
    "print('MSE:',mean_squared_error(svr_predict,y_test))\n",
    "print('MAE:',mean_absolute_error(svr_predict,y_test))\n",
    "print('r2_score:',r2_score(svr_predict,y_test))"
   ]
  },
  {
   "cell_type": "markdown",
   "id": "aaf96436",
   "metadata": {},
   "source": [
    "### SVR(kernel='poly')"
   ]
  },
  {
   "cell_type": "code",
   "execution_count": 50,
   "id": "cfed674b",
   "metadata": {},
   "outputs": [
    {
     "name": "stdout",
     "output_type": "stream",
     "text": [
      "0.9013837929180802\n"
     ]
    }
   ],
   "source": [
    "svr_p=SVR(kernel='poly')\n",
    "svr_p.fit(x_train,y_train)\n",
    "print(svr_p.score(x_train,y_train))\n",
    "svrpred_p=svr_p.predict(x_test)"
   ]
  },
  {
   "cell_type": "code",
   "execution_count": 51,
   "id": "beca3241",
   "metadata": {},
   "outputs": [
    {
     "name": "stdout",
     "output_type": "stream",
     "text": [
      "MSE: 4.122206973930409\n",
      "MAE: 1.441487697052796\n",
      "r2_score: 0.8261092477808017\n"
     ]
    }
   ],
   "source": [
    "print('MSE:',mean_squared_error(svrpred_p,y_test))\n",
    "print('MAE:',mean_absolute_error(svrpred_p,y_test))\n",
    "print('r2_score:',r2_score(svrpred_p,y_test))"
   ]
  },
  {
   "cell_type": "markdown",
   "id": "4a479ae9",
   "metadata": {},
   "source": [
    "### (kernel='rbf')"
   ]
  },
  {
   "cell_type": "code",
   "execution_count": 53,
   "id": "ae3c2a14",
   "metadata": {},
   "outputs": [
    {
     "name": "stdout",
     "output_type": "stream",
     "text": [
      "0.9360530604122108\n"
     ]
    }
   ],
   "source": [
    "svr_r=SVR(kernel='rbf')\n",
    "svr_r.fit(x_train,y_train)\n",
    "print(svr_r.score(x_train,y_train))\n",
    "svrpred_r=svr_r.predict(x_test)"
   ]
  },
  {
   "cell_type": "code",
   "execution_count": 54,
   "id": "5cb7cdf9",
   "metadata": {},
   "outputs": [
    {
     "name": "stdout",
     "output_type": "stream",
     "text": [
      "MSE: 4.097407825197738\n",
      "MAE: 1.1863247095998342\n",
      "r2_score: 0.7390933860686082\n"
     ]
    }
   ],
   "source": [
    "print('MSE:',mean_squared_error(svrpred_r,y_test))\n",
    "print('MAE:',mean_absolute_error(svrpred_r,y_test))\n",
    "print('r2_score:',r2_score(svrpred_r,y_test))"
   ]
  },
  {
   "cell_type": "markdown",
   "id": "111ea811",
   "metadata": {},
   "source": [
    "## RandomForestRegressor"
   ]
  },
  {
   "cell_type": "code",
   "execution_count": 55,
   "id": "1f6b14e5",
   "metadata": {},
   "outputs": [
    {
     "name": "stdout",
     "output_type": "stream",
     "text": [
      "0.9970701264559106\n"
     ]
    }
   ],
   "source": [
    "from sklearn.ensemble import RandomForestRegressor\n",
    "\n",
    "RF=RandomForestRegressor()\n",
    "RF.fit(x_train,y_train)\n",
    "print(RF.score(x_train,y_train))\n",
    "RF_PRED=RF.predict(x_test)"
   ]
  },
  {
   "cell_type": "code",
   "execution_count": 56,
   "id": "a533b026",
   "metadata": {},
   "outputs": [
    {
     "name": "stdout",
     "output_type": "stream",
     "text": [
      "MSE: 0.7662635370370346\n",
      "MAE: 0.6017592592592592\n",
      "r2_score: 0.9677518292816402\n"
     ]
    }
   ],
   "source": [
    "print('MSE:',mean_squared_error(RF_PRED,y_test))\n",
    "print('MAE:',mean_absolute_error(RF_PRED,y_test))\n",
    "print('r2_score:',r2_score(RF_PRED,y_test))"
   ]
  },
  {
   "cell_type": "markdown",
   "id": "3ff02560",
   "metadata": {},
   "source": [
    "## DecisionTreeRegressor"
   ]
  },
  {
   "cell_type": "code",
   "execution_count": 57,
   "id": "8ca5ae94",
   "metadata": {},
   "outputs": [
    {
     "name": "stdout",
     "output_type": "stream",
     "text": [
      "1.0\n"
     ]
    }
   ],
   "source": [
    "from sklearn.tree import DecisionTreeRegressor\n",
    "\n",
    "DTR=DecisionTreeRegressor()\n",
    "DTR.fit(x_train,y_train)\n",
    "print(DTR.score(x_train,y_train))\n",
    "DTR_PRED=DTR.predict(x_test)"
   ]
  },
  {
   "cell_type": "code",
   "execution_count": 58,
   "id": "4f462349",
   "metadata": {},
   "outputs": [
    {
     "name": "stdout",
     "output_type": "stream",
     "text": [
      "MSE: 1.3875925925925927\n",
      "MAE: 0.8166666666666667\n",
      "r2_score: 0.9462920143248904\n"
     ]
    }
   ],
   "source": [
    "print('MSE:',mean_squared_error(DTR_PRED,y_test))\n",
    "print('MAE:',mean_absolute_error(DTR_PRED,y_test))\n",
    "print('r2_score:',r2_score(DTR_PRED,y_test))"
   ]
  },
  {
   "cell_type": "markdown",
   "id": "ece826f2",
   "metadata": {},
   "source": [
    "## GradientBoostingRegressor\n"
   ]
  },
  {
   "cell_type": "code",
   "execution_count": 59,
   "id": "168323e2",
   "metadata": {},
   "outputs": [
    {
     "name": "stdout",
     "output_type": "stream",
     "text": [
      "0.9991283570674452\n"
     ]
    }
   ],
   "source": [
    "from sklearn.ensemble import GradientBoostingRegressor\n",
    "\n",
    "GBR=GradientBoostingRegressor()\n",
    "GBR.fit(x_train,y_train)\n",
    "print(GBR.score(x_train,y_train))\n",
    "GBR_PRED=GBR.predict(x_test)"
   ]
  },
  {
   "cell_type": "code",
   "execution_count": 60,
   "id": "9722cac5",
   "metadata": {},
   "outputs": [
    {
     "name": "stdout",
     "output_type": "stream",
     "text": [
      "MSE: 0.7712292143175509\n",
      "MAE: 0.5719130806235577\n",
      "r2_score: 0.9688695645918208\n"
     ]
    }
   ],
   "source": [
    "print('MSE:',mean_squared_error(GBR_PRED,y_test))\n",
    "print('MAE:',mean_absolute_error(GBR_PRED,y_test))\n",
    "print('r2_score:',r2_score(GBR_PRED,y_test))"
   ]
  },
  {
   "cell_type": "markdown",
   "id": "0d8c015b",
   "metadata": {},
   "source": [
    "## Cross validation"
   ]
  },
  {
   "cell_type": "code",
   "execution_count": 61,
   "id": "60d828a6",
   "metadata": {},
   "outputs": [
    {
     "name": "stdout",
     "output_type": "stream",
     "text": [
      "LR    : 3.058460, 1.798248\n",
      "R    : 3.119994, 1.912683\n",
      "svr    : 3.722187, 2.582450\n",
      "svr_p    : 3.392446, 1.542680\n",
      "svr_r    : 2.100341, 1.771422\n",
      "RF    : 0.544083, 0.159386\n",
      "DTR    : 1.279811, 0.547504\n",
      "GBR    : 0.549391, 0.286283\n"
     ]
    }
   ],
   "source": [
    "from sklearn.model_selection import cross_val_score\n",
    "\n",
    "np.random.seed(10)\n",
    "def rmse_cv(model, x,y):\n",
    "    rmse =- (cross_val_score(model, x,y, scoring='neg_mean_squared_error', cv=10))\n",
    "    return(rmse)\n",
    "\n",
    "\n",
    "models = [LinearRegression(),\n",
    "             Ridge(),\n",
    "             SVR(kernel='linear'),\n",
    "             SVR(kernel='poly'),\n",
    "             SVR(kernel='rbf'),\n",
    "             RandomForestRegressor(),\n",
    "             DecisionTreeRegressor(),  \n",
    "             GradientBoostingRegressor(),]\n",
    "            \n",
    "\n",
    "\n",
    "names = ['LR','R','svr','svr_p','svr_r','RF','DTR','GBR']\n",
    "\n",
    "for model,name in zip(models,names):\n",
    "    score = rmse_cv(model,x,y)\n",
    "    print(\"{}    : {:.6f}, {:4f}\".format(name,score.mean(),score.std()))"
   ]
  },
  {
   "cell_type": "markdown",
   "id": "bed9de9d",
   "metadata": {},
   "source": [
    "### -Accourding to all metrics score selecting the RandomForestRegressor & GradientBoostingRegressoras for GridSeachCV\n"
   ]
  },
  {
   "cell_type": "markdown",
   "id": "29234d6e",
   "metadata": {},
   "source": [
    "## HYPER PARAMETER TUNING:"
   ]
  },
  {
   "cell_type": "markdown",
   "id": "7318bc02",
   "metadata": {},
   "source": [
    "## GridSearchCV"
   ]
  },
  {
   "cell_type": "markdown",
   "id": "b80348b4",
   "metadata": {},
   "source": [
    "### With RandomForestRegressor"
   ]
  },
  {
   "cell_type": "code",
   "execution_count": 63,
   "id": "1c4460e4",
   "metadata": {},
   "outputs": [],
   "source": [
    "from sklearn.model_selection import GridSearchCV\n",
    "\n",
    "\n",
    "RF=RandomForestRegressor()\n",
    "param={\n",
    "     'criterion':['mse','mae'],\n",
    "    'n_estimators':[100, 200],\n",
    "    'max_depth':[1],\n",
    "   'max_features' : [\"sqrt\", \"log2\",],\n",
    "}"
   ]
  },
  {
   "cell_type": "code",
   "execution_count": 64,
   "id": "53666ccd",
   "metadata": {},
   "outputs": [],
   "source": [
    "RF_grid=GridSearchCV(RandomForestRegressor(),param,cv=10,scoring='accuracy',n_jobs=-1,verbose=2)"
   ]
  },
  {
   "cell_type": "code",
   "execution_count": 65,
   "id": "79d11609",
   "metadata": {},
   "outputs": [
    {
     "name": "stdout",
     "output_type": "stream",
     "text": [
      "Fitting 10 folds for each of 8 candidates, totalling 80 fits\n"
     ]
    }
   ],
   "source": [
    "RF_grid.fit(x_train,y_train)\n",
    "RF_grid_pred=RF_grid.best_estimator_.predict(x_test)"
   ]
  },
  {
   "cell_type": "code",
   "execution_count": 66,
   "id": "54fd1842",
   "metadata": {},
   "outputs": [
    {
     "data": {
      "text/plain": [
       "{'criterion': 'mse',\n",
       " 'max_depth': 1,\n",
       " 'max_features': 'sqrt',\n",
       " 'n_estimators': 100}"
      ]
     },
     "execution_count": 66,
     "metadata": {},
     "output_type": "execute_result"
    }
   ],
   "source": [
    "RF_grid.best_params_"
   ]
  },
  {
   "cell_type": "code",
   "execution_count": 68,
   "id": "cb6a95d4",
   "metadata": {},
   "outputs": [
    {
     "name": "stdout",
     "output_type": "stream",
     "text": [
      "MSE: 19.86118909451438\n",
      "MAE: 3.460038881790171\n",
      "r2_score: -7.117103858128953\n"
     ]
    }
   ],
   "source": [
    "print('MSE:',mean_squared_error(RF_grid_pred,y_test))\n",
    "print('MAE:',mean_absolute_error(RF_grid_pred,y_test))\n",
    "print('r2_score:',r2_score(RF_grid_pred,y_test))"
   ]
  },
  {
   "cell_type": "code",
   "execution_count": 69,
   "id": "bbc7d202",
   "metadata": {},
   "outputs": [
    {
     "data": {
      "text/plain": [
       "<AxesSubplot:xlabel='sales', ylabel='Density'>"
      ]
     },
     "execution_count": 69,
     "metadata": {},
     "output_type": "execute_result"
    },
    {
     "data": {
      "image/png": "[encoded data removed]",
      "text/plain": [
       "<Figure size 432x288 with 1 Axes>"
      ]
     },
     "metadata": {
      "needs_background": "light"
     },
     "output_type": "display_data"
    }
   ],
   "source": [
    "sns.distplot(RF_grid_pred-y_test)"
   ]
  },
  {
   "cell_type": "code",
   "execution_count": 70,
   "id": "539bd639",
   "metadata": {},
   "outputs": [
    {
     "data": {
      "text/plain": [
       "<AxesSubplot:xlabel='sales', ylabel='Density'>"
      ]
     },
     "execution_count": 70,
     "metadata": {},
     "output_type": "execute_result"
    },
    {
     "data": {
      "image/png": "[encoded data removed]",
      "text/plain": [
       "<Figure size 432x288 with 1 Axes>"
      ]
     },
     "metadata": {
      "needs_background": "light"
     },
     "output_type": "display_data"
    }
   ],
   "source": [
    "sns.distplot(RF_grid_pred-y_test)"
   ]
  },
  {
   "cell_type": "code",
   "execution_count": 71,
   "id": "4736c487",
   "metadata": {},
   "outputs": [
    {
     "data": {
      "text/plain": [
       "[<matplotlib.lines.Line2D at 0x23d630f7940>]"
      ]
     },
     "execution_count": 71,
     "metadata": {},
     "output_type": "execute_result"
    },
    {
     "data": {
      "image/png": "[encoded data removed]",
      "text/plain": [
       "<Figure size 432x288 with 1 Axes>"
      ]
     },
     "metadata": {
      "needs_background": "light"
     },
     "output_type": "display_data"
    }
   ],
   "source": [
    "plt.scatter(RF_grid_pred,y_test)\n",
    "plt.plot(y_test,y_test,linewidth=2,color='Red')"
   ]
  },
  {
   "cell_type": "markdown",
   "id": "86fb31a0",
   "metadata": {},
   "source": [
    "## With GradientBoostingRegressor"
   ]
  },
  {
   "cell_type": "code",
   "execution_count": 72,
   "id": "14422982",
   "metadata": {},
   "outputs": [
    {
     "name": "stdout",
     "output_type": "stream",
     "text": [
      "Fitting 10 folds for each of 4 candidates, totalling 40 fits\n"
     ]
    }
   ],
   "source": [
    "GF=GradientBoostingRegressor()\n",
    "param={'criterion':['mse','mae'],'n_estimators':[100, 200],}\n",
    "\n",
    "\n",
    "GF_grid=GridSearchCV(RandomForestRegressor(),param,cv=10,scoring='accuracy',n_jobs=-1,verbose=2)\n",
    "\n",
    "\n",
    "GF_grid.fit(x_train,y_train)\n",
    "GF_grid_pred=GF_grid.best_estimator_.predict(x_test)\n"
   ]
  },
  {
   "cell_type": "code",
   "execution_count": 73,
   "id": "6101d9e3",
   "metadata": {},
   "outputs": [
    {
     "data": {
      "text/plain": [
       "{'criterion': 'mse',\n",
       " 'max_depth': 1,\n",
       " 'max_features': 'sqrt',\n",
       " 'n_estimators': 100}"
      ]
     },
     "execution_count": 73,
     "metadata": {},
     "output_type": "execute_result"
    }
   ],
   "source": [
    "RF_grid.best_params_\n"
   ]
  },
  {
   "cell_type": "code",
   "execution_count": 75,
   "id": "0670e751",
   "metadata": {},
   "outputs": [
    {
     "name": "stdout",
     "output_type": "stream",
     "text": [
      "MSE: 0.7083771666666636\n",
      "MAE: 0.5722407407407405\n",
      "r2_score: 0.9708125578628825\n"
     ]
    }
   ],
   "source": [
    "print('MSE:',mean_squared_error(GF_grid_pred,y_test))\n",
    "print('MAE:',mean_absolute_error(GF_grid_pred,y_test))\n",
    "print('r2_score:',r2_score(GF_grid_pred,y_test))"
   ]
  },
  {
   "cell_type": "code",
   "execution_count": 76,
   "id": "1b4ad791",
   "metadata": {},
   "outputs": [
    {
     "data": {
      "text/plain": [
       "<AxesSubplot:xlabel='sales', ylabel='Density'>"
      ]
     },
     "execution_count": 76,
     "metadata": {},
     "output_type": "execute_result"
    },
    {
     "data": {
      "image/png": "[encoded data removed]",
      "text/plain": [
       "<Figure size 432x288 with 1 Axes>"
      ]
     },
     "metadata": {
      "needs_background": "light"
     },
     "output_type": "display_data"
    }
   ],
   "source": [
    "sns.distplot(GF_grid_pred-y_test)"
   ]
  },
  {
   "cell_type": "code",
   "execution_count": 77,
   "id": "cdfc95a7",
   "metadata": {},
   "outputs": [
    {
     "data": {
      "text/plain": [
       "[<matplotlib.lines.Line2D at 0x23d6322b1c0>]"
      ]
     },
     "execution_count": 77,
     "metadata": {},
     "output_type": "execute_result"
    },
    {
     "data": {
      "image/png": "[encoded data removed]",
      "text/plain": [
       "<Figure size 432x288 with 1 Axes>"
      ]
     },
     "metadata": {
      "needs_background": "light"
     },
     "output_type": "display_data"
    }
   ],
   "source": [
    "plt.scatter(GF_grid_pred,y_test)\n",
    "plt.plot(y_test,y_test,linewidth=2,color='Red')"
   ]
  },
  {
   "cell_type": "markdown",
   "id": "63089a0c",
   "metadata": {},
   "source": [
    "# Choosing GradientBoostingRegressor as the best model\n"
   ]
  },
  {
   "cell_type": "markdown",
   "id": "ef90fd1b",
   "metadata": {},
   "source": [
    "## saving the model"
   ]
  },
  {
   "cell_type": "code",
   "execution_count": 78,
   "id": "5ef3bf42",
   "metadata": {},
   "outputs": [],
   "source": [
    "import joblib"
   ]
  },
  {
   "cell_type": "code",
   "execution_count": 79,
   "id": "7c9c62c5",
   "metadata": {},
   "outputs": [
    {
     "data": {
      "text/plain": [
       "['Advertising Sales Channel Prediction_Project.obj']"
      ]
     },
     "execution_count": 79,
     "metadata": {},
     "output_type": "execute_result"
    }
   ],
   "source": [
    "joblib.dump(RF_grid.best_estimator_,'Advertising Sales Channel Prediction_Project.obj')"
   ]
  },
  {
   "cell_type": "code",
   "execution_count": null,
   "id": "6d5a3a8e",
   "metadata": {},
   "outputs": [],
   "source": []
  }
 ],
 "metadata": {
  "kernelspec": {
   "display_name": "Python 3 (ipykernel)",
   "language": "python",
   "name": "python3"
  },
  "language_info": {
   "codemirror_mode": {
    "name": "ipython",
    "version": 3
   },
   "file_extension": ".py",
   "mimetype": "text/x-python",
   "name": "python",
   "nbconvert_exporter": "python",
   "pygments_lexer": "ipython3",
   "version": "3.9.7"
  }
 },
 "nbformat": 4,
 "nbformat_minor": 5
}
